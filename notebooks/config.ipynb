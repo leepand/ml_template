{
 "cells": [
  {
   "cell_type": "code",
   "execution_count": 1,
   "id": "a9932046-fce5-4422-9f7f-1c3e33493b37",
   "metadata": {},
   "outputs": [
    {
     "data": {
      "text/plain": [
       "{'ops_servers': ['recomserver', 'rewardserver'],\n",
       " 'recomserver': {'host': '0.0.0.0',\n",
       "  'ports': [4001],\n",
       "  'prebuild_path': 'src',\n",
       "  'server_name': 'recomserver',\n",
       "  'serving': True,\n",
       "  'workers': 4},\n",
       " 'rewardserver': {'host': '0.0.0.0',\n",
       "  'ports': [5001],\n",
       "  'prebuild_path': 'src',\n",
       "  'server_name': 'rewardserver',\n",
       "  'serving': True,\n",
       "  'workers': 4}}"
      ]
     },
     "execution_count": 1,
     "metadata": {},
     "output_type": "execute_result"
    }
   ],
   "source": [
    "from mlopskit.ext.store import YAMLDataSet\n",
    "\n",
    "c=YAMLDataSet(\"../config/server_dev.yml\")\n",
    "c.load()\n"
   ]
  },
  {
   "cell_type": "code",
   "execution_count": 3,
   "id": "78fd9dc9-c178-4cfd-9dce-699f6a6df4ca",
   "metadata": {},
   "outputs": [],
   "source": [
    "cc={'ops_servers': ['recomserver', 'rewardserver'],\n",
    " 'recomserver': {'host': '0.0.0.0',\n",
    "  'ports': [4001],\n",
    "  'prebuild_path': 'src',\n",
    "  'server_name': 'recomserver',\n",
    "  'serving': True,\n",
    "  'workers': 4},\n",
    " 'rewardserver': {'host': '0.0.0.0',\n",
    "  'ports': [5001],\n",
    "  'prebuild_path': 'src',\n",
    "  'server_name': 'rewardserver',\n",
    "  'serving': True,\n",
    "  'workers': 4}}\n",
    "\n",
    "c2=YAMLDataSet(\"../config/server_prod.yml\")\n",
    "c2.save(cc)"
   ]
  },
  {
   "cell_type": "code",
   "execution_count": 7,
   "id": "54766745-f8ca-44a6-a85f-5b0e82a3847a",
   "metadata": {},
   "outputs": [
    {
     "name": "stdout",
     "output_type": "stream",
     "text": [
      "2023-08-05 18:49:23 [info     ] APIs of mlopskit               model_name=online_blevel_pay11 model_version=None ops_type=meta\n",
      "2023-08-05 18:49:23 [info     ] Usage of mlopskit-meta         Params=\u001b[36;1m{'meta_ops': 'get/set, default:get', 'set': {'meta_content': 'Dict'}}\u001b[0m\n",
      "2023-08-05 18:49:23 [info     ] \u001b[32;1mmeta data of model online_blevel_pay11 is updated to Version None\u001b[0m\n"
     ]
    },
    {
     "name": "stderr",
     "output_type": "stream",
     "text": [
      "SFDB[/Users/leepand/同步空间/codes/mlflow_workspace/model_meta.db] Database ready with 16 rows.\n",
      "SFDB[/Users/leepand/同步空间/codes/mlflow_workspace/model_meta.db] Committed 1 transactions during the last 0.00 seconds.\n",
      "SFDB[/Users/leepand/同步空间/codes/mlflow_workspace/model_meta.db] Database connection closed.\n"
     ]
    }
   ],
   "source": [
    "from mlopskit import make\n",
    "make(\"meta/online_blevel_pay11\",meta_ops=\"set\",meta_content={\"port\":6009})"
   ]
  }
 ],
 "metadata": {
  "kernelspec": {
   "display_name": "Python 3 (ipykernel)",
   "language": "python",
   "name": "python3"
  },
  "language_info": {
   "codemirror_mode": {
    "name": "ipython",
    "version": 3
   },
   "file_extension": ".py",
   "mimetype": "text/x-python",
   "name": "python",
   "nbconvert_exporter": "python",
   "pygments_lexer": "ipython3",
   "version": "3.8.15"
  }
 },
 "nbformat": 4,
 "nbformat_minor": 5
}
