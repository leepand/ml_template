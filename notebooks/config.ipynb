{
 "cells": [
  {
   "cell_type": "code",
   "execution_count": 1,
   "id": "a9932046-fce5-4422-9f7f-1c3e33493b37",
   "metadata": {},
   "outputs": [
    {
     "data": {
      "text/plain": [
       "{'ops_servers': ['recomserver', 'rewardserver'],\n",
       " 'recomserver': {'host': '0.0.0.0',\n",
       "  'ports': [4001],\n",
       "  'prebuild_path': 'src',\n",
       "  'server_name': 'recomserver',\n",
       "  'serving': True,\n",
       "  'workers': 4},\n",
       " 'rewardserver': {'host': '0.0.0.0',\n",
       "  'ports': [5001],\n",
       "  'prebuild_path': 'src',\n",
       "  'server_name': 'rewardserver',\n",
       "  'serving': True,\n",
       "  'workers': 4}}"
      ]
     },
     "execution_count": 1,
     "metadata": {},
     "output_type": "execute_result"
    }
   ],
   "source": [
    "from mlopskit.ext.store import YAMLDataSet\n",
    "\n",
    "c=YAMLDataSet(\"../config/server_dev.yml\")\n",
    "c.load()\n"
   ]
  },
  {
   "cell_type": "code",
   "execution_count": 3,
   "id": "78fd9dc9-c178-4cfd-9dce-699f6a6df4ca",
   "metadata": {},
   "outputs": [],
   "source": [
    "cc={'ops_servers': ['recomserver', 'rewardserver'],\n",
    " 'recomserver': {'host': '0.0.0.0',\n",
    "  'ports': [4001],\n",
    "  'prebuild_path': 'src',\n",
    "  'server_name': 'recomserver',\n",
    "  'serving': True,\n",
    "  'workers': 4},\n",
    " 'rewardserver': {'host': '0.0.0.0',\n",
    "  'ports': [5001],\n",
    "  'prebuild_path': 'src',\n",
    "  'server_name': 'rewardserver',\n",
    "  'serving': True,\n",
    "  'workers': 4}}\n",
    "\n",
    "c2=YAMLDataSet(\"../config/server_prod.yml\")\n",
    "c2.save(cc)"
   ]
  },
  {
   "cell_type": "code",
   "execution_count": null,
   "id": "54766745-f8ca-44a6-a85f-5b0e82a3847a",
   "metadata": {},
   "outputs": [],
   "source": [
    "from mlopskit import make\n",
    "make(\"meta/feature_store\",meta_ops=\"set\",meta_content={\"port\":4001})"
   ]
  }
 ],
 "metadata": {
  "kernelspec": {
   "display_name": "Python 3 (ipykernel)",
   "language": "python",
   "name": "python3"
  },
  "language_info": {
   "codemirror_mode": {
    "name": "ipython",
    "version": 3
   },
   "file_extension": ".py",
   "mimetype": "text/x-python",
   "name": "python",
   "nbconvert_exporter": "python",
   "pygments_lexer": "ipython3",
   "version": "3.8.15"
  }
 },
 "nbformat": 4,
 "nbformat_minor": 5
}
