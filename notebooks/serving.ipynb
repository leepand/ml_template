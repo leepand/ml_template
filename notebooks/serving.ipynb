{
 "cells": [
  {
   "cell_type": "code",
   "execution_count": null,
   "id": "4b631a28-a7da-464e-859f-88e157aceccc",
   "metadata": {},
   "outputs": [],
   "source": [
    "from mlopskit.pipe import ServiceMgr\n",
    "\n",
    "test=ServiceMgr([\"online_navig_promotion_pricing\"],env=\"dev\")\n",
    "test.start_service()\n",
    "\n",
    "test.scan_logs(100000)"
   ]
  },
  {
   "cell_type": "code",
   "execution_count": null,
   "id": "9d3fef94-0e50-4d72-a50b-93b62b68b3fc",
   "metadata": {},
   "outputs": [],
   "source": [
    "from mlopskit import Client\n",
    "\n",
    "\n",
    "Client(port=4001).predict(payload)\n",
    "Client(port=5001).predict(payload,\"predict/rewardserver\")"
   ]
  }
 ],
 "metadata": {
  "kernelspec": {
   "display_name": "Python 3 (ipykernel)",
   "language": "python",
   "name": "python3"
  },
  "language_info": {
   "codemirror_mode": {
    "name": "ipython",
    "version": 3
   },
   "file_extension": ".py",
   "mimetype": "text/x-python",
   "name": "python",
   "nbconvert_exporter": "python",
   "pygments_lexer": "ipython3",
   "version": "3.8.15"
  }
 },
 "nbformat": 4,
 "nbformat_minor": 5
}
