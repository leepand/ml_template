{
 "cells": [
  {
   "cell_type": "code",
   "execution_count": null,
   "metadata": {},
   "outputs": [],
   "source": [
    "from mlopskit import make\n",
    "debug_db = make(\"cache/feature_store-v1\", db_name=\"debug_tests.db\")\n",
    "\n",
    "model_name = \"model_name\"\n",
    "debug_key = f\"{model_name}:debug\"\n",
    "# open test\n",
    "debug_db.set(debug_key,\"1\")\n",
    "# close test\n",
    "debug_key\n",
    "debug_db.set(debug_key,\"0\")"
   ]
  }
 ],
 "metadata": {
  "kernelspec": {
   "display_name": "Python 3",
   "language": "python",
   "name": "python3"
  },
  "language_info": {
   "name": "python",
   "version": "3.10.9 (main, Dec 15 2022, 10:44:50) [Clang 14.0.0 (clang-1400.0.29.202)]"
  },
  "orig_nbformat": 4,
  "vscode": {
   "interpreter": {
    "hash": "b0fa6594d8f4cbf19f97940f81e996739fb7646882a419484c72d19e05852a7e"
   }
  }
 },
 "nbformat": 4,
 "nbformat_minor": 2
}
